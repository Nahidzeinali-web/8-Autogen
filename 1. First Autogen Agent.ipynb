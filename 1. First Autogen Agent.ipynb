{
 "cells": [
  {
   "cell_type": "markdown",
   "id": "9f92850c",
   "metadata": {},
   "source": [
    "# Autogen Installation\n"
   ]
  },
  {
   "cell_type": "markdown",
   "id": "b1a10e41",
   "metadata": {},
   "source": [
    "1. Create a venv\n",
    "2. Create a requirements.txt\n",
    "3. install autogen-agentchat autogen-core autogen-ext"
   ]
  },
  {
   "cell_type": "markdown",
   "id": "4067dc4c",
   "metadata": {},
   "source": [
    "# First Autogen Agent\n"
   ]
  },
  {
   "cell_type": "code",
   "execution_count": 15,
   "id": "f2795136",
   "metadata": {},
   "outputs": [],
   "source": [
    "#! pip install autogen-agentchat\n",
    "#! pip install autogen-core\n",
    "#! pip install autogen-ext\n",
    "#! pip install tiktoken"
   ]
  },
  {
   "cell_type": "code",
   "execution_count": 10,
   "id": "688ca4fa",
   "metadata": {},
   "outputs": [],
   "source": [
    "from autogen_agentchat.agents import AssistantAgent\n",
    "from autogen_ext.models.openai import OpenAIChatCompletionClient\n",
    "from dotenv import load_dotenv\n",
    "import os\n",
    "\n",
    "load_dotenv()\n",
    "\n",
    "api_key = os.getenv('OPENAI_API_KEY')"
   ]
  },
  {
   "cell_type": "markdown",
   "id": "5933fdac",
   "metadata": {},
   "source": [
    "# Connecting to the Model"
   ]
  },
  {
   "cell_type": "code",
   "execution_count": null,
   "id": "93e8ce47",
   "metadata": {},
   "outputs": [
    {
     "name": "stdout",
     "output_type": "stream",
     "text": [
      "messages=[TextMessage(id='cecc6f3b-6bc6-44a3-bf5a-2da803cab4cd', source='user', models_usage=None, metadata={}, created_at=datetime.datetime(2025, 7, 7, 15, 42, 41, 639672, tzinfo=datetime.timezone.utc), content='Tell me something about you?', type='TextMessage'), TextMessage(id='fffdddaa-4a32-44c1-af8e-dc8049772013', source='my_assistant', models_usage=RequestUsage(prompt_tokens=42, completion_tokens=61), metadata={}, created_at=datetime.datetime(2025, 7, 7, 15, 42, 45, 526920, tzinfo=datetime.timezone.utc), content='I am an AI assistant designed to help with a variety of tasks by providing information, answering questions, and assisting with problem-solving. My knowledge is based on data up to October 2023, and I can use available tools to perform tasks and retrieve information for you. How may I assist you today?', type='TextMessage')] stop_reason=None\n"
     ]
    }
   ],
   "source": [
    "# Initialize the OpenAI client using GPT-4o and your API key\n",
    "model_client = OpenAIChatCompletionClient(model='gpt-4o', api_key=api_key)\n",
    "\n",
    "# Create an assistant agent using the model client\n",
    "agent_1 = AssistantAgent(name='my_assistant', model_client=model_client)\n",
    "\n",
    "# Run the agent asynchronously with a given prompt/task\n",
    "result = await agent_1.run(task='Tell me something about you?')\n",
    "\n",
    "# Print the result returned by the assistant\n",
    "print(result)\n",
    "\n"
   ]
  },
  {
   "cell_type": "markdown",
   "id": "6c3e5a29",
   "metadata": {},
   "source": [
    "messages=[TextMessage(id='714f62c3-d04b-4083-ba19-f7be07265189', source='user', models_usage=None, metadata={}, created_at=datetime.datetime(2025, 7, 5, 3, 25, 38, 211549, tzinfo=datetime.timezone.utc), content='Tell me something about you?', type='TextMessage'), TextMessage(id='c246edfa-aa4b-42fa-9b64-9ae6ab725224', source='my_assistant', models_usage=RequestUsage(prompt_tokens=42, completion_tokens=75), metadata={}, created_at=datetime.datetime(2025, 7, 5, 3, 25, 40, 380327, tzinfo=datetime.timezone.utc), content='I am an AI language model developed by OpenAI, designed to assist with a wide range of queries by providing information, answering questions, and helping with problem-solving. My training includes data up to October 2023, and I can perform tasks like summarizing text, providing explanations, and generating human-like text responses. Please let me know how I can assist you today!', type='TextMessage')] stop_reason=None"
   ]
  },
  {
   "cell_type": "code",
   "execution_count": 13,
   "id": "484d9d3f",
   "metadata": {},
   "outputs": [
    {
     "data": {
      "text/plain": [
       "TaskResult(messages=[TextMessage(id='b6422971-24f8-4541-99f9-a48afe41fba9', source='user', models_usage=None, metadata={}, created_at=datetime.datetime(2025, 7, 7, 15, 43, 26, 717710, tzinfo=datetime.timezone.utc), content='What was my last question?', type='TextMessage'), TextMessage(id='88df54c8-e1c2-43be-883d-9dbb0350298d', source='my_assistant', models_usage=RequestUsage(prompt_tokens=118, completion_tokens=19), metadata={}, created_at=datetime.datetime(2025, 7, 7, 15, 43, 28, 250154, tzinfo=datetime.timezone.utc), content='Your last question was, \"Tell me something about you?\" How can I assist you further?', type='TextMessage')], stop_reason=None)"
      ]
     },
     "execution_count": 13,
     "metadata": {},
     "output_type": "execute_result"
    }
   ],
   "source": [
    "result2 = await agent_1.run(task='What was my last question?')\n",
    "result2"
   ]
  },
  {
   "cell_type": "markdown",
   "id": "e6f63612",
   "metadata": {},
   "source": [
    "TaskResult(messages=[TextMessage(id='76d1e1aa-b951-46d2-9c60-ff1012276b25', source='user', models_usage=None, metadata={}, created_at=datetime.datetime(2025, 7, 5, 3, 27, 40, 688838, tzinfo=datetime.timezone.utc), content='What was my last question?', type='TextMessage'), TextMessage(id='5ea5301b-0980-47be-a864-a6ca7345aa70', source='my_assistant', models_usage=RequestUsage(prompt_tokens=132, completion_tokens=12), metadata={}, created_at=datetime.datetime(2025, 7, 5, 3, 27, 42, 61792, tzinfo=datetime.timezone.utc), content='Your last question was: \"Tell me something about you?\"', type='TextMessage')], stop_reason=None)"
   ]
  }
 ],
 "metadata": {
  "kernelspec": {
   "display_name": "Python 3",
   "language": "python",
   "name": "python3"
  },
  "language_info": {
   "codemirror_mode": {
    "name": "ipython",
    "version": 3
   },
   "file_extension": ".py",
   "mimetype": "text/x-python",
   "name": "python",
   "nbconvert_exporter": "python",
   "pygments_lexer": "ipython3",
   "version": "3.12.0"
  }
 },
 "nbformat": 4,
 "nbformat_minor": 5
}
